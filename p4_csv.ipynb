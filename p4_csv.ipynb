{
 "cells": [
  {
   "cell_type": "code",
   "execution_count": 1,
   "metadata": {},
   "outputs": [],
   "source": [
    "import pandas as pd"
   ]
  },
  {
   "attachments": {},
   "cell_type": "markdown",
   "metadata": {},
   "source": [
    "### Reading CSV File in notebook"
   ]
  },
  {
   "cell_type": "code",
   "execution_count": 4,
   "metadata": {},
   "outputs": [],
   "source": [
    "df_csv=pd.read_csv('./ML_FILE_01/P4_assets/Webscraped_NYS.csv')"
   ]
  },
  {
   "cell_type": "code",
   "execution_count": 5,
   "metadata": {},
   "outputs": [
    {
     "data": {
      "text/html": [
       "<div>\n",
       "<style scoped>\n",
       "    .dataframe tbody tr th:only-of-type {\n",
       "        vertical-align: middle;\n",
       "    }\n",
       "\n",
       "    .dataframe tbody tr th {\n",
       "        vertical-align: top;\n",
       "    }\n",
       "\n",
       "    .dataframe thead th {\n",
       "        text-align: right;\n",
       "    }\n",
       "</style>\n",
       "<table border=\"1\" class=\"dataframe\">\n",
       "  <thead>\n",
       "    <tr style=\"text-align: right;\">\n",
       "      <th></th>\n",
       "      <th>site_name</th>\n",
       "      <th>website</th>\n",
       "      <th>latitude</th>\n",
       "      <th>longitude</th>\n",
       "      <th>address</th>\n",
       "      <th>phone</th>\n",
       "      <th>description</th>\n",
       "      <th>amenities</th>\n",
       "    </tr>\n",
       "  </thead>\n",
       "  <tbody>\n",
       "    <tr>\n",
       "      <th>0</th>\n",
       "      <td>Bennington Battlefield State Historic Site</td>\n",
       "      <td>https://parks.ny.gov/historic-sites/12</td>\n",
       "      <td>42.933758</td>\n",
       "      <td>-73.304878</td>\n",
       "      <td>5157 Route 67Walloomsac, NY 12090</td>\n",
       "      <td>(518) 860-9094</td>\n",
       "      <td>2022 Geocache challengeBennington Battlefield ...</td>\n",
       "      <td>Picnic Area</td>\n",
       "    </tr>\n",
       "    <tr>\n",
       "      <th>1</th>\n",
       "      <td>Clermont State Historic Site</td>\n",
       "      <td>https://parks.ny.gov/historic-sites/16</td>\n",
       "      <td>42.085087</td>\n",
       "      <td>-73.911835</td>\n",
       "      <td>One Clermont AvenueGermantown, NY 12526</td>\n",
       "      <td>(518) 537-4240</td>\n",
       "      <td>Clermont State Historic Site was the Hudson Ri...</td>\n",
       "      <td>Equestrian Trails, Gift Shop, Hiking, Picnic A...</td>\n",
       "    </tr>\n",
       "    <tr>\n",
       "      <th>2</th>\n",
       "      <td>Clinton House State Historic Site</td>\n",
       "      <td>https://parks.ny.gov/historic-sites/1</td>\n",
       "      <td>41.700333</td>\n",
       "      <td>-73.915993</td>\n",
       "      <td>549 Main StreetPoughkeepsie, NY 12602</td>\n",
       "      <td>(845) 471-1630</td>\n",
       "      <td>The vernacular stone house now known as Clinto...</td>\n",
       "      <td>NaN</td>\n",
       "    </tr>\n",
       "    <tr>\n",
       "      <th>3</th>\n",
       "      <td>Crailo State Historic Site</td>\n",
       "      <td>https://parks.ny.gov/historic-sites/30</td>\n",
       "      <td>42.634590</td>\n",
       "      <td>-73.749496</td>\n",
       "      <td>9 1/2 Riverside AvenueRensselaer, NY 12144</td>\n",
       "      <td>(518) 463-8738</td>\n",
       "      <td>2022 Geocache challengeCrailo is the museum of...</td>\n",
       "      <td>Visitor Center</td>\n",
       "    </tr>\n",
       "    <tr>\n",
       "      <th>4</th>\n",
       "      <td>Crown Point State Historic Site</td>\n",
       "      <td>https://parks.ny.gov/historic-sites/34</td>\n",
       "      <td>44.024853</td>\n",
       "      <td>-73.424377</td>\n",
       "      <td>21 Grandview DriveCrown Point, NY 12928</td>\n",
       "      <td>(518) 597-4666</td>\n",
       "      <td>2022 Geocache challengeCrown Point State Histo...</td>\n",
       "      <td>Hiking, Picnic Area, Snowshoeing/X-Country Ski...</td>\n",
       "    </tr>\n",
       "  </tbody>\n",
       "</table>\n",
       "</div>"
      ],
      "text/plain": [
       "                                    site_name  \\\n",
       "0  Bennington Battlefield State Historic Site   \n",
       "1                Clermont State Historic Site   \n",
       "2           Clinton House State Historic Site   \n",
       "3                  Crailo State Historic Site   \n",
       "4             Crown Point State Historic Site   \n",
       "\n",
       "                                  website   latitude  longitude  \\\n",
       "0  https://parks.ny.gov/historic-sites/12  42.933758 -73.304878   \n",
       "1  https://parks.ny.gov/historic-sites/16  42.085087 -73.911835   \n",
       "2   https://parks.ny.gov/historic-sites/1  41.700333 -73.915993   \n",
       "3  https://parks.ny.gov/historic-sites/30  42.634590 -73.749496   \n",
       "4  https://parks.ny.gov/historic-sites/34  44.024853 -73.424377   \n",
       "\n",
       "                                      address           phone  \\\n",
       "0           5157 Route 67Walloomsac, NY 12090  (518) 860-9094   \n",
       "1     One Clermont AvenueGermantown, NY 12526  (518) 537-4240   \n",
       "2       549 Main StreetPoughkeepsie, NY 12602  (845) 471-1630   \n",
       "3  9 1/2 Riverside AvenueRensselaer, NY 12144  (518) 463-8738   \n",
       "4     21 Grandview DriveCrown Point, NY 12928  (518) 597-4666   \n",
       "\n",
       "                                         description  \\\n",
       "0  2022 Geocache challengeBennington Battlefield ...   \n",
       "1  Clermont State Historic Site was the Hudson Ri...   \n",
       "2  The vernacular stone house now known as Clinto...   \n",
       "3  2022 Geocache challengeCrailo is the museum of...   \n",
       "4  2022 Geocache challengeCrown Point State Histo...   \n",
       "\n",
       "                                           amenities  \n",
       "0                                        Picnic Area  \n",
       "1  Equestrian Trails, Gift Shop, Hiking, Picnic A...  \n",
       "2                                                NaN  \n",
       "3                                     Visitor Center  \n",
       "4  Hiking, Picnic Area, Snowshoeing/X-Country Ski...  "
      ]
     },
     "execution_count": 5,
     "metadata": {},
     "output_type": "execute_result"
    }
   ],
   "source": [
    "df_csv.head()"
   ]
  }
 ],
 "metadata": {
  "kernelspec": {
   "display_name": "Python 3",
   "language": "python",
   "name": "python3"
  },
  "language_info": {
   "codemirror_mode": {
    "name": "ipython",
    "version": 3
   },
   "file_extension": ".py",
   "mimetype": "text/x-python",
   "name": "python",
   "nbconvert_exporter": "python",
   "pygments_lexer": "ipython3",
   "version": "3.11.2"
  },
  "orig_nbformat": 4
 },
 "nbformat": 4,
 "nbformat_minor": 2
}
