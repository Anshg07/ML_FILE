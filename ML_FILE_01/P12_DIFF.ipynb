{
 "cells": [
  {
   "cell_type": "code",
   "execution_count": 5,
   "metadata": {},
   "outputs": [],
   "source": [
    "from sklearn.datasets import load_iris\n",
    "from sklearn.model_selection import train_test_split\n",
    "from sklearn.tree import DecisionTreeClassifier\n",
    "from sklearn.ensemble import RandomForestClassifier\n",
    "from sklearn.svm import SVC\n",
    "import time\n",
    "\n",
    "\n"
   ]
  },
  {
   "cell_type": "code",
   "execution_count": 6,
   "metadata": {},
   "outputs": [],
   "source": [
    "# Load the Iris dataset\n",
    "iris = load_iris()\n",
    "X = iris.data\n",
    "y = iris.target\n",
    "\n",
    "# Split the data into training and testing sets\n",
    "X_train, X_test, y_train, y_test = train_test_split(X, y, test_size=0.2, random_state=42, stratify=y)\n",
    "\n"
   ]
  },
  {
   "cell_type": "code",
   "execution_count": 7,
   "metadata": {},
   "outputs": [],
   "source": [
    "# Decision Tree\n",
    "start_time = time.time()\n",
    "dt = DecisionTreeClassifier()\n",
    "dt.fit(X_train, y_train)\n",
    "training_time_dt = time.time() - start_time\n",
    "\n",
    "start_time = time.time()\n",
    "y_pred_dt = dt.predict(X_test)\n",
    "prediction_time_dt = time.time() - start_time\n",
    "\n",
    "accuracy_dt = dt.score(X_test, y_test)"
   ]
  },
  {
   "cell_type": "code",
   "execution_count": 8,
   "metadata": {},
   "outputs": [],
   "source": [
    "# Random Forest\n",
    "start_time = time.time()\n",
    "rf = RandomForestClassifier()\n",
    "rf.fit(X_train, y_train)\n",
    "training_time_rf = time.time() - start_time\n",
    "\n",
    "start_time = time.time()\n",
    "y_pred_rf = rf.predict(X_test)\n",
    "prediction_time_rf = time.time() - start_time\n",
    "\n",
    "accuracy_rf = rf.score(X_test, y_test)"
   ]
  },
  {
   "cell_type": "code",
   "execution_count": 9,
   "metadata": {},
   "outputs": [],
   "source": [
    "# Support Vector Machine\n",
    "start_time = time.time()\n",
    "svm = SVC()\n",
    "svm.fit(X_train, y_train)\n",
    "training_time_svm = time.time() - start_time\n",
    "\n",
    "start_time = time.time()\n",
    "y_pred_svm = svm.predict(X_test)\n",
    "prediction_time_svm = time.time() - start_time\n",
    "\n",
    "accuracy_svm = svm.score(X_test, y_test)"
   ]
  },
  {
   "cell_type": "code",
   "execution_count": 11,
   "metadata": {},
   "outputs": [
    {
     "name": "stdout",
     "output_type": "stream",
     "text": [
      "Algorithm\t\tAccuracy\tTraining Time\tPrediction Time\n",
      "-----------------------------------------------------------------------\n",
      "Decision Tree\t\t0.9667\t\t0.001779\t\t0.000000\n",
      "Random Forest\t\t0.9000\t\t0.185550\t\t0.016395\n",
      "Support Vector Machine\t0.9667\t\t0.000000\t\t0.000000\n"
     ]
    }
   ],
   "source": [
    "# Print the results\n",
    "print(\"Algorithm\\t\\tAccuracy\\tTraining Time\\tPrediction Time\")\n",
    "print(\"-----------------------------------------------------------------------\")\n",
    "print(\"Decision Tree\\t\\t{:.4f}\\t\\t{:.6f}\\t\\t{:.6f}\".format(accuracy_dt, training_time_dt, prediction_time_dt))\n",
    "print(\"Random Forest\\t\\t{:.4f}\\t\\t{:.6f}\\t\\t{:.6f}\".format(accuracy_rf, training_time_rf, prediction_time_rf))\n",
    "print(\"Support Vector Machine\\t{:.4f}\\t\\t{:.6f}\\t\\t{:.6f}\".format(accuracy_svm, training_time_svm, prediction_time_svm))"
   ]
  },
  {
   "cell_type": "code",
   "execution_count": null,
   "metadata": {},
   "outputs": [],
   "source": []
  }
 ],
 "metadata": {
  "kernelspec": {
   "display_name": "Python 3",
   "language": "python",
   "name": "python3"
  },
  "language_info": {
   "codemirror_mode": {
    "name": "ipython",
    "version": 3
   },
   "file_extension": ".py",
   "mimetype": "text/x-python",
   "name": "python",
   "nbconvert_exporter": "python",
   "pygments_lexer": "ipython3",
   "version": "3.11.2"
  },
  "orig_nbformat": 4
 },
 "nbformat": 4,
 "nbformat_minor": 2
}
