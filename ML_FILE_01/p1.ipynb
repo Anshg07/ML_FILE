{
 "cells": [
  {
   "attachments": {},
   "cell_type": "markdown",
   "metadata": {},
   "source": [
    "PROGRAM TO READ A EXISING FILE"
   ]
  },
  {
   "cell_type": "code",
   "execution_count": 14,
   "metadata": {},
   "outputs": [
    {
     "data": {
      "text/plain": [
       "'Hello everyone!\\nTHIS IS AN EXISTING FILE!\\nTHIS IS LINE 1\\nTHIS IS LINE 2\\nTHIS IS LINE 3\\nTHIS IS LINE 4\\nTHIS IS LINE 5'"
      ]
     },
     "execution_count": 14,
     "metadata": {},
     "output_type": "execute_result"
    }
   ],
   "source": [
    "f=open(\"ansh.txt\",'r')\n",
    "f.read()"
   ]
  },
  {
   "cell_type": "code",
   "execution_count": 15,
   "metadata": {},
   "outputs": [],
   "source": [
    "f.close()"
   ]
  },
  {
   "attachments": {},
   "cell_type": "markdown",
   "metadata": {},
   "source": [
    "PROGRAM TO PRINT REVERSE ORDER OF FILE"
   ]
  },
  {
   "cell_type": "code",
   "execution_count": 16,
   "metadata": {},
   "outputs": [
    {
     "name": "stdout",
     "output_type": "stream",
     "text": [
      "THIS IS LINE 5\n",
      "THIS IS LINE 4\n",
      "\n",
      "THIS IS LINE 3\n",
      "\n",
      "THIS IS LINE 2\n",
      "\n",
      "THIS IS LINE 1\n",
      "\n",
      "THIS IS AN EXISTING FILE!\n",
      "\n",
      "Hello everyone!\n",
      "\n"
     ]
    }
   ],
   "source": [
    "f=open(\"ansh.txt\",\"r\")\n",
    "list=reversed(f.readlines())\n",
    "for line in list:\n",
    "    print(line)\n",
    "    "
   ]
  },
  {
   "cell_type": "code",
   "execution_count": 17,
   "metadata": {},
   "outputs": [],
   "source": [
    "f.close()"
   ]
  },
  {
   "attachments": {},
   "cell_type": "markdown",
   "metadata": {},
   "source": [
    "PROGRAM TO CREATE/WRITE A NEW FILE"
   ]
  },
  {
   "cell_type": "code",
   "execution_count": 18,
   "metadata": {},
   "outputs": [],
   "source": [
    "#creating a new file in the memory\n",
    "f=open(\"newcloud.txt\",'w')"
   ]
  },
  {
   "cell_type": "code",
   "execution_count": 19,
   "metadata": {},
   "outputs": [],
   "source": [
    "list=['Hello All\\n','this is a new file creating by writing method\\n','Have fun!\\n']\n",
    "f.writelines(list)"
   ]
  },
  {
   "cell_type": "code",
   "execution_count": 20,
   "metadata": {},
   "outputs": [],
   "source": [
    "f.close()"
   ]
  },
  {
   "cell_type": "code",
   "execution_count": 21,
   "metadata": {},
   "outputs": [
    {
     "name": "stdout",
     "output_type": "stream",
     "text": [
      "Hello All\n",
      "\n",
      "this is a new file creating by writing method\n",
      "\n",
      "Have fun!\n",
      "\n"
     ]
    }
   ],
   "source": [
    "f=open(\"newcloud.txt\",'r')\n",
    "for line in (f.readlines()):\n",
    "    print(line)"
   ]
  },
  {
   "cell_type": "code",
   "execution_count": 22,
   "metadata": {},
   "outputs": [],
   "source": [
    "f.close()"
   ]
  },
  {
   "attachments": {},
   "cell_type": "markdown",
   "metadata": {},
   "source": [
    "PROGRAM TO APPEND AN EXISTING FILE"
   ]
  },
  {
   "cell_type": "code",
   "execution_count": 23,
   "metadata": {},
   "outputs": [],
   "source": [
    "#opening file in append mode\n",
    "f=open('newcloud.txt','a')\n"
   ]
  },
  {
   "cell_type": "code",
   "execution_count": 24,
   "metadata": {},
   "outputs": [],
   "source": [
    "l=[\"This is appened line 1\\n\",'this is appended line 2.']\n",
    "f.writelines(l)"
   ]
  },
  {
   "cell_type": "code",
   "execution_count": 25,
   "metadata": {},
   "outputs": [],
   "source": [
    "f.close()"
   ]
  },
  {
   "cell_type": "code",
   "execution_count": 26,
   "metadata": {},
   "outputs": [
    {
     "name": "stdout",
     "output_type": "stream",
     "text": [
      "Hello All\n",
      "\n",
      "this is a new file creating by writing method\n",
      "\n",
      "Have fun!\n",
      "\n",
      "This is appened line 1\n",
      "\n",
      "this is appended line 2.\n"
     ]
    }
   ],
   "source": [
    "f=open(\"newcloud.txt\",'r')\n",
    "for line in f.readlines():\n",
    "    print(line)"
   ]
  },
  {
   "cell_type": "code",
   "execution_count": 27,
   "metadata": {},
   "outputs": [],
   "source": [
    "f.close()"
   ]
  },
  {
   "cell_type": "code",
   "execution_count": null,
   "metadata": {},
   "outputs": [],
   "source": []
  }
 ],
 "metadata": {
  "kernelspec": {
   "display_name": "Python 3",
   "language": "python",
   "name": "python3"
  },
  "language_info": {
   "codemirror_mode": {
    "name": "ipython",
    "version": 3
   },
   "file_extension": ".py",
   "mimetype": "text/x-python",
   "name": "python",
   "nbconvert_exporter": "python",
   "pygments_lexer": "ipython3",
   "version": "3.11.2"
  },
  "orig_nbformat": 4
 },
 "nbformat": 4,
 "nbformat_minor": 2
}
