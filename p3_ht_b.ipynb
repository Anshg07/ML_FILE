{
 "cells": [
  {
   "cell_type": "code",
   "execution_count": 1,
   "metadata": {},
   "outputs": [],
   "source": [
    "import numpy as np\n",
    "import pandas as pd"
   ]
  },
  {
   "cell_type": "code",
   "execution_count": 2,
   "metadata": {},
   "outputs": [],
   "source": [
    "df=pd.read_excel('./ML_FILE_01/Hypotheses_assets/tennis.xlsx')"
   ]
  },
  {
   "cell_type": "code",
   "execution_count": 3,
   "metadata": {},
   "outputs": [
    {
     "data": {
      "text/html": [
       "<div>\n",
       "<style scoped>\n",
       "    .dataframe tbody tr th:only-of-type {\n",
       "        vertical-align: middle;\n",
       "    }\n",
       "\n",
       "    .dataframe tbody tr th {\n",
       "        vertical-align: top;\n",
       "    }\n",
       "\n",
       "    .dataframe thead th {\n",
       "        text-align: right;\n",
       "    }\n",
       "</style>\n",
       "<table border=\"1\" class=\"dataframe\">\n",
       "  <thead>\n",
       "    <tr style=\"text-align: right;\">\n",
       "      <th></th>\n",
       "      <th>sl.no</th>\n",
       "      <th>Outlook</th>\n",
       "      <th>Temperature</th>\n",
       "      <th>Humidity</th>\n",
       "      <th>Wind</th>\n",
       "      <th>PlayTennis</th>\n",
       "    </tr>\n",
       "  </thead>\n",
       "  <tbody>\n",
       "    <tr>\n",
       "      <th>0</th>\n",
       "      <td>0</td>\n",
       "      <td>Sunny</td>\n",
       "      <td>Hot</td>\n",
       "      <td>High</td>\n",
       "      <td>Weak</td>\n",
       "      <td>No</td>\n",
       "    </tr>\n",
       "    <tr>\n",
       "      <th>1</th>\n",
       "      <td>1</td>\n",
       "      <td>Sunny</td>\n",
       "      <td>Hot</td>\n",
       "      <td>High</td>\n",
       "      <td>Strong</td>\n",
       "      <td>No</td>\n",
       "    </tr>\n",
       "    <tr>\n",
       "      <th>2</th>\n",
       "      <td>2</td>\n",
       "      <td>Overcast</td>\n",
       "      <td>Hot</td>\n",
       "      <td>High</td>\n",
       "      <td>Weak</td>\n",
       "      <td>Yes</td>\n",
       "    </tr>\n",
       "    <tr>\n",
       "      <th>3</th>\n",
       "      <td>3</td>\n",
       "      <td>Rain</td>\n",
       "      <td>Mild</td>\n",
       "      <td>High</td>\n",
       "      <td>Weak</td>\n",
       "      <td>Yes</td>\n",
       "    </tr>\n",
       "    <tr>\n",
       "      <th>4</th>\n",
       "      <td>4</td>\n",
       "      <td>Rain</td>\n",
       "      <td>Cool</td>\n",
       "      <td>Normal</td>\n",
       "      <td>Weak</td>\n",
       "      <td>Yes</td>\n",
       "    </tr>\n",
       "  </tbody>\n",
       "</table>\n",
       "</div>"
      ],
      "text/plain": [
       "   sl.no   Outlook Temperature Humidity    Wind PlayTennis\n",
       "0      0     Sunny         Hot     High    Weak         No\n",
       "1      1     Sunny         Hot     High  Strong         No\n",
       "2      2  Overcast         Hot     High    Weak        Yes\n",
       "3      3      Rain        Mild     High    Weak        Yes\n",
       "4      4      Rain        Cool   Normal    Weak        Yes"
      ]
     },
     "execution_count": 3,
     "metadata": {},
     "output_type": "execute_result"
    }
   ],
   "source": [
    "df.head()"
   ]
  },
  {
   "cell_type": "code",
   "execution_count": 4,
   "metadata": {},
   "outputs": [],
   "source": [
    "collength=df.shape[1]"
   ]
  },
  {
   "cell_type": "code",
   "execution_count": 5,
   "metadata": {},
   "outputs": [],
   "source": [
    "h=['0']*(collength-1)\n",
    "hp=[]\n",
    "hn=[]"
   ]
  },
  {
   "cell_type": "code",
   "execution_count": 6,
   "metadata": {},
   "outputs": [],
   "source": [
    "for trainingExample in df.values:\n",
    "    if trainingExample[-1]!='No':\n",
    "        hp.append(list(trainingExample))\n",
    "    else:\n",
    "        hn.append(list(trainingExample))"
   ]
  },
  {
   "cell_type": "code",
   "execution_count": 8,
   "metadata": {},
   "outputs": [],
   "source": [
    "for i in range(len(hp)):\n",
    "    for j in range(collength-1):\n",
    "        if (h[j]=='0'):\n",
    "            h[j]=hp[i][j]\n",
    "        if (h[j]!=hp[i][j]):\n",
    "            h[j]='?'\n",
    "        else:\n",
    "            h[j]=hp[i][j]"
   ]
  },
  {
   "cell_type": "code",
   "execution_count": 9,
   "metadata": {},
   "outputs": [
    {
     "name": "stdout",
     "output_type": "stream",
     "text": [
      "\n",
      "The positive Hypotheses are \n",
      "[[2, 'Overcast', 'Hot', 'High', 'Weak', 'Yes'], [3, 'Rain', 'Mild', 'High', 'Weak', 'Yes'], [4, 'Rain', 'Cool', 'Normal', 'Weak', 'Yes'], [6, 'Overcast', 'Cool', 'Normal', 'Strong', 'Yes'], [8, 'Sunny', 'Cool', 'Normal', 'Weak', 'Yes'], [9, 'Rain', 'Mild', 'Normal', 'Weak', 'Yes'], [10, 'Sunny', 'Mild', 'Normal', 'Strong', 'Yes'], [11, 'Overcast', 'Mild', 'High', 'Strong', 'Yes'], [12, 'Overcast', 'Hot', 'Normal', 'Weak', 'Yes']]\n",
      "\n",
      "The negative Hypotheses are \n",
      "[[0, 'Sunny', 'Hot', 'High', 'Weak', 'No'], [1, 'Sunny', 'Hot', 'High', 'Strong', 'No'], [5, 'Rain', 'Cool', 'Normal', 'Strong', 'No'], [7, 'Sunny', 'Mild', 'High', 'Weak', 'No'], [13, 'Rain', 'Mild', 'High', 'Strong', 'No']]\n",
      "\n",
      "The Maximally Specific Hypothesis H is \n",
      "['?', '?', '?', '?', '?']\n"
     ]
    }
   ],
   "source": [
    "print(\"\\nThe positive Hypotheses are \")\n",
    "print(hp)\n",
    "print('\\nThe negative Hypotheses are ')\n",
    "print(hn)\n",
    "print('\\nThe Maximally Specific Hypothesis H is ')\n",
    "print(h)"
   ]
  },
  {
   "cell_type": "code",
   "execution_count": null,
   "metadata": {},
   "outputs": [],
   "source": []
  }
 ],
 "metadata": {
  "kernelspec": {
   "display_name": "Python 3",
   "language": "python",
   "name": "python3"
  },
  "language_info": {
   "codemirror_mode": {
    "name": "ipython",
    "version": 3
   },
   "file_extension": ".py",
   "mimetype": "text/x-python",
   "name": "python",
   "nbconvert_exporter": "python",
   "pygments_lexer": "ipython3",
   "version": "3.11.2"
  },
  "orig_nbformat": 4
 },
 "nbformat": 4,
 "nbformat_minor": 2
}
